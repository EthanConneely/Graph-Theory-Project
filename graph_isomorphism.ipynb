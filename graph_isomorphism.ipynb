{
 "cells": [
  {
   "attachments": {},
   "cell_type": "markdown",
   "metadata": {},
   "source": [
    "# Graph Theory Project\n",
    "\n",
    "by Ethan Conneely (G00393941)"
   ]
  },
  {
   "attachments": {},
   "cell_type": "markdown",
   "metadata": {},
   "source": [
    "## Graph isomorphism problem\n",
    "\n",
    "> The graph isomorphism problem is the computational problem of determining whether two finite graphs are isomorphic.  \n",
    "> The problem is not known to be solvable in polynomial time nor to be NP-complete, and therefore may be in the computational complexity class NP-intermediate. \n",
    "\n",
    "[Wikipedia](https://en.wikipedia.org/wiki/Graph_isomorphism_problem)"
   ]
  },
  {
   "attachments": {},
   "cell_type": "markdown",
   "metadata": {},
   "source": [
    "## Youtube\n",
    "\n",
    "I watched this video for a visual explanation of what graph isomorphism is  \n",
    "[Video](https://www.youtube.com/watch?v=EwV4Puk2coU)"
   ]
  },
  {
   "attachments": {},
   "cell_type": "markdown",
   "metadata": {},
   "source": [
    "# NetworkX Research"
   ]
  },
  {
   "cell_type": "code",
   "execution_count": 2,
   "metadata": {},
   "outputs": [
    {
     "data": {
      "image/png": "[encoded data removed]",
      "text/plain": [
       "<Figure size 640x480 with 2 Axes>"
      ]
     },
     "metadata": {},
     "output_type": "display_data"
    }
   ],
   "source": [
    "import networkx as nx\n",
    "import matplotlib.pyplot as plt\n",
    "\n",
    "G1 = nx.Graph()\n",
    "G1.add_nodes_from([1,2,3,4,5])\n",
    "G1.add_edges_from([(1,2),(2,3),(3,4),(4,5),(5,1)])\n",
    "\n",
    "G2 = nx.Graph()\n",
    "G2.add_nodes_from([\"a\",\"b\",\"c\",\"d\",\"e\"])\n",
    "G2.add_edges_from([(\"a\",\"c\"),(\"b\",\"d\"),(\"c\",\"e\"),(\"d\",\"a\"),(\"e\",\"b\")])\n",
    "\n",
    "plt.subplot(1,2,1) # Draw the first graph at index 1\n",
    "nx.draw(G1,with_labels=True)\n",
    "\n",
    "plt.subplot(1,2,2) # Draw the second graph at index 2\n",
    "nx.draw(G2,with_labels=True)\n",
    "\n",
    "plt.show()"
   ]
  },
  {
   "attachments": {},
   "cell_type": "markdown",
   "metadata": {},
   "source": [
    "These 2 are ismomorphic as they both have the same number of vertices and have a bijective function that can map one to the other."
   ]
  },
  {
   "attachments": {},
   "cell_type": "markdown",
   "metadata": {},
   "source": [
    "Using iter tools we can generate all the permutations of a graphs nodes easily"
   ]
  },
  {
   "cell_type": "code",
   "execution_count": 5,
   "metadata": {},
   "outputs": [
    {
     "name": "stdout",
     "output_type": "stream",
     "text": [
      "('a', 'b', 'c', 'd', 'e')\n",
      "('a', 'b', 'c', 'e', 'd')\n",
      "('a', 'b', 'd', 'c', 'e')\n",
      "('a', 'b', 'd', 'e', 'c')\n",
      "('a', 'b', 'e', 'c', 'd')\n",
      "('a', 'b', 'e', 'd', 'c')\n",
      "('a', 'c', 'b', 'd', 'e')\n",
      "('a', 'c', 'b', 'e', 'd')\n",
      "('a', 'c', 'd', 'b', 'e')\n",
      "('a', 'c', 'd', 'e', 'b')\n",
      "('a', 'c', 'e', 'b', 'd')\n",
      "('a', 'c', 'e', 'd', 'b')\n",
      "('a', 'd', 'b', 'c', 'e')\n",
      "('a', 'd', 'b', 'e', 'c')\n",
      "('a', 'd', 'c', 'b', 'e')\n",
      "('a', 'd', 'c', 'e', 'b')\n",
      "('a', 'd', 'e', 'b', 'c')\n",
      "('a', 'd', 'e', 'c', 'b')\n",
      "('a', 'e', 'b', 'c', 'd')\n",
      "('a', 'e', 'b', 'd', 'c')\n",
      "('a', 'e', 'c', 'b', 'd')\n",
      "('a', 'e', 'c', 'd', 'b')\n",
      "('a', 'e', 'd', 'b', 'c')\n",
      "('a', 'e', 'd', 'c', 'b')\n",
      "('b', 'a', 'c', 'd', 'e')\n",
      "('b', 'a', 'c', 'e', 'd')\n",
      "('b', 'a', 'd', 'c', 'e')\n",
      "('b', 'a', 'd', 'e', 'c')\n",
      "('b', 'a', 'e', 'c', 'd')\n",
      "('b', 'a', 'e', 'd', 'c')\n",
      "('b', 'c', 'a', 'd', 'e')\n",
      "('b', 'c', 'a', 'e', 'd')\n",
      "('b', 'c', 'd', 'a', 'e')\n",
      "('b', 'c', 'd', 'e', 'a')\n",
      "('b', 'c', 'e', 'a', 'd')\n",
      "('b', 'c', 'e', 'd', 'a')\n",
      "('b', 'd', 'a', 'c', 'e')\n",
      "('b', 'd', 'a', 'e', 'c')\n",
      "('b', 'd', 'c', 'a', 'e')\n",
      "('b', 'd', 'c', 'e', 'a')\n",
      "('b', 'd', 'e', 'a', 'c')\n",
      "('b', 'd', 'e', 'c', 'a')\n",
      "('b', 'e', 'a', 'c', 'd')\n",
      "('b', 'e', 'a', 'd', 'c')\n",
      "('b', 'e', 'c', 'a', 'd')\n",
      "('b', 'e', 'c', 'd', 'a')\n",
      "('b', 'e', 'd', 'a', 'c')\n",
      "('b', 'e', 'd', 'c', 'a')\n",
      "('c', 'a', 'b', 'd', 'e')\n",
      "('c', 'a', 'b', 'e', 'd')\n",
      "('c', 'a', 'd', 'b', 'e')\n",
      "('c', 'a', 'd', 'e', 'b')\n",
      "('c', 'a', 'e', 'b', 'd')\n",
      "('c', 'a', 'e', 'd', 'b')\n",
      "('c', 'b', 'a', 'd', 'e')\n",
      "('c', 'b', 'a', 'e', 'd')\n",
      "('c', 'b', 'd', 'a', 'e')\n",
      "('c', 'b', 'd', 'e', 'a')\n",
      "('c', 'b', 'e', 'a', 'd')\n",
      "('c', 'b', 'e', 'd', 'a')\n",
      "('c', 'd', 'a', 'b', 'e')\n",
      "('c', 'd', 'a', 'e', 'b')\n",
      "('c', 'd', 'b', 'a', 'e')\n",
      "('c', 'd', 'b', 'e', 'a')\n",
      "('c', 'd', 'e', 'a', 'b')\n",
      "('c', 'd', 'e', 'b', 'a')\n",
      "('c', 'e', 'a', 'b', 'd')\n",
      "('c', 'e', 'a', 'd', 'b')\n",
      "('c', 'e', 'b', 'a', 'd')\n",
      "('c', 'e', 'b', 'd', 'a')\n",
      "('c', 'e', 'd', 'a', 'b')\n",
      "('c', 'e', 'd', 'b', 'a')\n",
      "('d', 'a', 'b', 'c', 'e')\n",
      "('d', 'a', 'b', 'e', 'c')\n",
      "('d', 'a', 'c', 'b', 'e')\n",
      "('d', 'a', 'c', 'e', 'b')\n",
      "('d', 'a', 'e', 'b', 'c')\n",
      "('d', 'a', 'e', 'c', 'b')\n",
      "('d', 'b', 'a', 'c', 'e')\n",
      "('d', 'b', 'a', 'e', 'c')\n",
      "('d', 'b', 'c', 'a', 'e')\n",
      "('d', 'b', 'c', 'e', 'a')\n",
      "('d', 'b', 'e', 'a', 'c')\n",
      "('d', 'b', 'e', 'c', 'a')\n",
      "('d', 'c', 'a', 'b', 'e')\n",
      "('d', 'c', 'a', 'e', 'b')\n",
      "('d', 'c', 'b', 'a', 'e')\n",
      "('d', 'c', 'b', 'e', 'a')\n",
      "('d', 'c', 'e', 'a', 'b')\n",
      "('d', 'c', 'e', 'b', 'a')\n",
      "('d', 'e', 'a', 'b', 'c')\n",
      "('d', 'e', 'a', 'c', 'b')\n",
      "('d', 'e', 'b', 'a', 'c')\n",
      "('d', 'e', 'b', 'c', 'a')\n",
      "('d', 'e', 'c', 'a', 'b')\n",
      "('d', 'e', 'c', 'b', 'a')\n",
      "('e', 'a', 'b', 'c', 'd')\n",
      "('e', 'a', 'b', 'd', 'c')\n",
      "('e', 'a', 'c', 'b', 'd')\n",
      "('e', 'a', 'c', 'd', 'b')\n",
      "('e', 'a', 'd', 'b', 'c')\n",
      "('e', 'a', 'd', 'c', 'b')\n",
      "('e', 'b', 'a', 'c', 'd')\n",
      "('e', 'b', 'a', 'd', 'c')\n",
      "('e', 'b', 'c', 'a', 'd')\n",
      "('e', 'b', 'c', 'd', 'a')\n",
      "('e', 'b', 'd', 'a', 'c')\n",
      "('e', 'b', 'd', 'c', 'a')\n",
      "('e', 'c', 'a', 'b', 'd')\n",
      "('e', 'c', 'a', 'd', 'b')\n",
      "('e', 'c', 'b', 'a', 'd')\n",
      "('e', 'c', 'b', 'd', 'a')\n",
      "('e', 'c', 'd', 'a', 'b')\n",
      "('e', 'c', 'd', 'b', 'a')\n",
      "('e', 'd', 'a', 'b', 'c')\n",
      "('e', 'd', 'a', 'c', 'b')\n",
      "('e', 'd', 'b', 'a', 'c')\n",
      "('e', 'd', 'b', 'c', 'a')\n",
      "('e', 'd', 'c', 'a', 'b')\n",
      "('e', 'd', 'c', 'b', 'a')\n"
     ]
    }
   ],
   "source": [
    "import itertools as it\n",
    "import numpy as np\n",
    "\n",
    "nodes = it.permutations(np.array([\"a\",\"b\",\"c\",\"d\",\"e\"]))\n",
    "\n",
    "for node in nodes:\n",
    "    print(node)"
   ]
  }
 ],
 "metadata": {
  "kernelspec": {
   "display_name": "Python 3 (ipykernel)",
   "language": "python",
   "name": "python3"
  },
  "language_info": {
   "codemirror_mode": {
    "name": "ipython",
    "version": 3
   },
   "file_extension": ".py",
   "mimetype": "text/x-python",
   "name": "python",
   "nbconvert_exporter": "python",
   "pygments_lexer": "ipython3",
   "version": "3.11.0"
  },
  "orig_nbformat": 4,
  "vscode": {
   "interpreter": {
    "hash": "369f2c481f4da34e4445cda3fffd2e751bd1c4d706f27375911949ba6bb62e1c"
   }
  }
 },
 "nbformat": 4,
 "nbformat_minor": 2
}
