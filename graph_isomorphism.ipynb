{
    "cells": [
        {
            "attachments": {},
            "cell_type": "markdown",
            "metadata": {},
            "source": [
                "# Graph Theory Project\n",
                "\n",
                "by [Ethan Conneely](https://github.com/IrishBruse?tab=repositories) (G00393941)"
            ]
        },
        {
            "cell_type": "markdown",
            "metadata": {},
            "source": []
        },
        {
            "attachments": {},
            "cell_type": "markdown",
            "metadata": {
                "tags": []
            },
            "source": [
                "## Graph isomorphism problem\n",
                "\n",
                "> The graph isomorphism problem is the computational problem of determining whether two finite graphs are isomorphic.  \n",
                "> The problem is not known to be solvable in polynomial time nor to be NP-complete, and therefore may be in the computational complexity class NP-intermediate.  \n",
                "\n",
                "[Wikipedia](https://en.wikipedia.org/wiki/Graph_isomorphism_problem)\n",
                "\n",
                "## Youtube\n",
                "\n",
                "I watched this video for a visual explanation of what graph isomorphism is [[1]](#References)\n",
                "\n",
                "## What is a Graph\n",
                "A graph is a mathematical concept where vertices are connected by way of edges defining the relationship between said vertices.\n",
                "\n",
                "![Graphs With 5 Edges](Images/Graphs%20With%205%20Edges.png)  \n",
                "Image of graphs With 5 edges  \n",
                "\n",
                "## What the Graph Isomorphism Problem is\n",
                "The graph isomorphism problem is a problem in computer science and mathematics.  \n",
                "It is used to determine whether two given graphs are isomorphic or not.  \n",
                "A graph isomorphism is a bijective mapping between the vertices of two graphs that preserves the edges.  \n",
                "In other words, two graphs are isomorphic if their nodes can be reorganized in a way that preserves the connections of the edges between them.  \n",
                "\n",
                "## Applications of Graph Isomorphism Problem\n",
                "The graph isomorphism problem has many practical applications in different fields such as computer science, chemistry, and physics.  \n",
                "In computer science, graph isomorphism is used in database matching, network analysis, and software verification.   \n",
                "In chemistry graph isomorphism is used to study molecular structure. In physics it is used to study the topology of physical systems.  \n",
                "In biology it is used for dna analysis.  \n",
                "\n",
                "## Importance of Graph Isomorphism Problem\n",
                "The graph isomorphism problem is an important problem in computer science and mathematics. Its resolution would have a significant impact on  \n",
                "several areas of research including [cryptography](https://www.acadpubl.eu/hub/2018-119-13/articles/40.pdf). The study of this problem  \n",
                "has also led to the development of new mathematical tools and algorithms that have applications beyond the field of graph theory.  \n"
            ]
        },
        {
            "attachments": {},
            "cell_type": "markdown",
            "metadata": {},
            "source": [
                "# Code Examples"
            ]
        },
        {
            "attachments": {},
            "cell_type": "markdown",
            "metadata": {},
            "source": [
                "Libraries used"
            ]
        },
        {
            "cell_type": "code",
            "execution_count": 15,
            "metadata": {},
            "outputs": [],
            "source": [
                "import networkx as nx\n",
                "import matplotlib.pyplot as plt\n",
                "import itertools as it\n",
                "import numpy as np"
            ]
        },
        {
            "attachments": {},
            "cell_type": "markdown",
            "metadata": {},
            "source": [
                "With networkx in python we can define a graph with the following syntax"
            ]
        },
        {
            "cell_type": "code",
            "execution_count": 16,
            "metadata": {},
            "outputs": [
                {
                    "data": {
                        "image/png": "[encoded data removed]",
                        "text/plain": [
                            "<Figure size 640x480 with 1 Axes>"
                        ]
                    },
                    "metadata": {},
                    "output_type": "display_data"
                }
            ],
            "source": [
                "NumberGraph = nx.Graph()\n",
                "NumberGraph.add_nodes_from([1,2,3,4,5])\n",
                "NumberGraph.add_edges_from([(1,2),(2,3),(3,4),(4,5),(5,1)])\n",
                "\n",
                "nx.draw(NumberGraph, with_labels=True)"
            ]
        },
        {
            "attachments": {},
            "cell_type": "markdown",
            "metadata": {},
            "source": [
                "Next we draw 2 graphs side by side with matplotlib.\n",
                "We can define nodes with letter or numbers or any piece of data we wish"
            ]
        },
        {
            "cell_type": "code",
            "execution_count": 17,
            "metadata": {},
            "outputs": [
                {
                    "data": {
                        "image/png": "[encoded data removed]",
                        "text/plain": [
                            "<Figure size 640x480 with 2 Axes>"
                        ]
                    },
                    "metadata": {},
                    "output_type": "display_data"
                }
            ],
            "source": [
                "NumberGraph = nx.Graph()\n",
                "NumberGraph.add_nodes_from([1,2,3,4,5])\n",
                "NumberGraph.add_edges_from([(1,2),(2,3),(3,4),(4,5),(5,1)])\n",
                "\n",
                "LetterGraph = nx.Graph()\n",
                "LetterGraph.add_nodes_from([\"a\",\"b\",\"c\",\"d\",\"e\"])\n",
                "LetterGraph.add_edges_from([(\"a\",\"c\"),(\"b\",\"d\"),(\"c\",\"e\"),(\"d\",\"a\"),(\"e\",\"b\")])\n",
                "\n",
                "plt.subplot(1,2,1) # Draw the first graph at index 1\n",
                "nx.draw(NumberGraph,with_labels=True)\n",
                "\n",
                "plt.subplot(1,2,2) # Draw the second graph at index 2\n",
                "nx.draw(LetterGraph,with_labels=True)\n",
                "\n",
                "plt.show()"
            ]
        },
        {
            "attachments": {},
            "cell_type": "markdown",
            "metadata": {},
            "source": [
                "Networkx comes with a builtin algorithm for detecting if graphs are isomorphic.  \n",
                "Below we check the letter graph and number graph from before to test if they are isomorphic.  "
            ]
        },
        {
            "cell_type": "code",
            "execution_count": 18,
            "metadata": {},
            "outputs": [
                {
                    "data": {
                        "text/plain": [
                            "True"
                        ]
                    },
                    "execution_count": 18,
                    "metadata": {},
                    "output_type": "execute_result"
                }
            ],
            "source": [
                "nx.is_isomorphic(LetterGraph,NumberGraph)"
            ]
        },
        {
            "attachments": {},
            "cell_type": "markdown",
            "metadata": {},
            "source": [
                "Yes they are indeed isomorphic to one another as a graph does not need to have the same vertices/nodes for them to be isomorphic only the same connections/edges."
            ]
        },
        {
            "attachments": {},
            "cell_type": "markdown",
            "metadata": {},
            "source": [
                "Using iter tools we can generate all the permutations of a graphs nodes easily we could use this as a way to test if 2 graphs are isomorphic.  \n",
                "The only issue with that is it grows in factorial time which mean it only takes a few elements before it would take more memory and time than the total available on earth today combined."
            ]
        },
        {
            "cell_type": "code",
            "execution_count": 19,
            "metadata": {},
            "outputs": [
                {
                    "name": "stdout",
                    "output_type": "stream",
                    "text": [
                        "('a', 'b', 'c', 'd', 'e')\n",
                        "('a', 'b', 'c', 'e', 'd')\n",
                        "('a', 'b', 'd', 'c', 'e')\n",
                        "('a', 'b', 'd', 'e', 'c')\n",
                        "('a', 'b', 'e', 'c', 'd')\n",
                        "('a', 'b', 'e', 'd', 'c')\n",
                        "('a', 'c', 'b', 'd', 'e')\n",
                        "('a', 'c', 'b', 'e', 'd')\n",
                        "('a', 'c', 'd', 'b', 'e')\n",
                        "('a', 'c', 'd', 'e', 'b')\n",
                        "('a', 'c', 'e', 'b', 'd')\n",
                        "('a', 'c', 'e', 'd', 'b')\n",
                        "('a', 'd', 'b', 'c', 'e')\n",
                        "('a', 'd', 'b', 'e', 'c')\n",
                        "('a', 'd', 'c', 'b', 'e')\n",
                        "('a', 'd', 'c', 'e', 'b')\n",
                        "('a', 'd', 'e', 'b', 'c')\n",
                        "('a', 'd', 'e', 'c', 'b')\n",
                        "('a', 'e', 'b', 'c', 'd')\n",
                        "('a', 'e', 'b', 'd', 'c')\n",
                        "('a', 'e', 'c', 'b', 'd')\n",
                        "('a', 'e', 'c', 'd', 'b')\n",
                        "('a', 'e', 'd', 'b', 'c')\n",
                        "('a', 'e', 'd', 'c', 'b')\n",
                        "('b', 'a', 'c', 'd', 'e')\n",
                        "('b', 'a', 'c', 'e', 'd')\n",
                        "('b', 'a', 'd', 'c', 'e')\n",
                        "('b', 'a', 'd', 'e', 'c')\n",
                        "('b', 'a', 'e', 'c', 'd')\n",
                        "('b', 'a', 'e', 'd', 'c')\n",
                        "('b', 'c', 'a', 'd', 'e')\n",
                        "('b', 'c', 'a', 'e', 'd')\n",
                        "('b', 'c', 'd', 'a', 'e')\n",
                        "('b', 'c', 'd', 'e', 'a')\n",
                        "('b', 'c', 'e', 'a', 'd')\n",
                        "('b', 'c', 'e', 'd', 'a')\n",
                        "('b', 'd', 'a', 'c', 'e')\n",
                        "('b', 'd', 'a', 'e', 'c')\n",
                        "('b', 'd', 'c', 'a', 'e')\n",
                        "('b', 'd', 'c', 'e', 'a')\n",
                        "('b', 'd', 'e', 'a', 'c')\n",
                        "('b', 'd', 'e', 'c', 'a')\n",
                        "('b', 'e', 'a', 'c', 'd')\n",
                        "('b', 'e', 'a', 'd', 'c')\n",
                        "('b', 'e', 'c', 'a', 'd')\n",
                        "('b', 'e', 'c', 'd', 'a')\n",
                        "('b', 'e', 'd', 'a', 'c')\n",
                        "('b', 'e', 'd', 'c', 'a')\n",
                        "('c', 'a', 'b', 'd', 'e')\n",
                        "('c', 'a', 'b', 'e', 'd')\n",
                        "('c', 'a', 'd', 'b', 'e')\n",
                        "('c', 'a', 'd', 'e', 'b')\n",
                        "('c', 'a', 'e', 'b', 'd')\n",
                        "('c', 'a', 'e', 'd', 'b')\n",
                        "('c', 'b', 'a', 'd', 'e')\n",
                        "('c', 'b', 'a', 'e', 'd')\n",
                        "('c', 'b', 'd', 'a', 'e')\n",
                        "('c', 'b', 'd', 'e', 'a')\n",
                        "('c', 'b', 'e', 'a', 'd')\n",
                        "('c', 'b', 'e', 'd', 'a')\n",
                        "('c', 'd', 'a', 'b', 'e')\n",
                        "('c', 'd', 'a', 'e', 'b')\n",
                        "('c', 'd', 'b', 'a', 'e')\n",
                        "('c', 'd', 'b', 'e', 'a')\n",
                        "('c', 'd', 'e', 'a', 'b')\n",
                        "('c', 'd', 'e', 'b', 'a')\n",
                        "('c', 'e', 'a', 'b', 'd')\n",
                        "('c', 'e', 'a', 'd', 'b')\n",
                        "('c', 'e', 'b', 'a', 'd')\n",
                        "('c', 'e', 'b', 'd', 'a')\n",
                        "('c', 'e', 'd', 'a', 'b')\n",
                        "('c', 'e', 'd', 'b', 'a')\n",
                        "('d', 'a', 'b', 'c', 'e')\n",
                        "('d', 'a', 'b', 'e', 'c')\n",
                        "('d', 'a', 'c', 'b', 'e')\n",
                        "('d', 'a', 'c', 'e', 'b')\n",
                        "('d', 'a', 'e', 'b', 'c')\n",
                        "('d', 'a', 'e', 'c', 'b')\n",
                        "('d', 'b', 'a', 'c', 'e')\n",
                        "('d', 'b', 'a', 'e', 'c')\n",
                        "('d', 'b', 'c', 'a', 'e')\n",
                        "('d', 'b', 'c', 'e', 'a')\n",
                        "('d', 'b', 'e', 'a', 'c')\n",
                        "('d', 'b', 'e', 'c', 'a')\n",
                        "('d', 'c', 'a', 'b', 'e')\n",
                        "('d', 'c', 'a', 'e', 'b')\n",
                        "('d', 'c', 'b', 'a', 'e')\n",
                        "('d', 'c', 'b', 'e', 'a')\n",
                        "('d', 'c', 'e', 'a', 'b')\n",
                        "('d', 'c', 'e', 'b', 'a')\n",
                        "('d', 'e', 'a', 'b', 'c')\n",
                        "('d', 'e', 'a', 'c', 'b')\n",
                        "('d', 'e', 'b', 'a', 'c')\n",
                        "('d', 'e', 'b', 'c', 'a')\n",
                        "('d', 'e', 'c', 'a', 'b')\n",
                        "('d', 'e', 'c', 'b', 'a')\n",
                        "('e', 'a', 'b', 'c', 'd')\n",
                        "('e', 'a', 'b', 'd', 'c')\n",
                        "('e', 'a', 'c', 'b', 'd')\n",
                        "('e', 'a', 'c', 'd', 'b')\n",
                        "('e', 'a', 'd', 'b', 'c')\n",
                        "('e', 'a', 'd', 'c', 'b')\n",
                        "('e', 'b', 'a', 'c', 'd')\n",
                        "('e', 'b', 'a', 'd', 'c')\n",
                        "('e', 'b', 'c', 'a', 'd')\n",
                        "('e', 'b', 'c', 'd', 'a')\n",
                        "('e', 'b', 'd', 'a', 'c')\n",
                        "('e', 'b', 'd', 'c', 'a')\n",
                        "('e', 'c', 'a', 'b', 'd')\n",
                        "('e', 'c', 'a', 'd', 'b')\n",
                        "('e', 'c', 'b', 'a', 'd')\n",
                        "('e', 'c', 'b', 'd', 'a')\n",
                        "('e', 'c', 'd', 'a', 'b')\n",
                        "('e', 'c', 'd', 'b', 'a')\n",
                        "('e', 'd', 'a', 'b', 'c')\n",
                        "('e', 'd', 'a', 'c', 'b')\n",
                        "('e', 'd', 'b', 'a', 'c')\n",
                        "('e', 'd', 'b', 'c', 'a')\n",
                        "('e', 'd', 'c', 'a', 'b')\n",
                        "('e', 'd', 'c', 'b', 'a')\n",
                        "Number of permutations: 120\n"
                    ]
                }
            ],
            "source": [
                "nodes = it.permutations(np.array([\"a\",\"b\",\"c\",\"d\",\"e\"]))\n",
                "\n",
                "count = 0\n",
                "\n",
                "for node in nodes:\n",
                "    print(node)\n",
                "    count += 1\n",
                "\n",
                "print(\"Number of permutations: \"+str(count))\n"
            ]
        },
        {
            "attachments": {},
            "cell_type": "markdown",
            "metadata": {},
            "source": [
                "Next is the [adjacency matrix](https://networkx.org/documentation/stable/reference/generated/networkx.linalg.graphmatrix.adjacency_matrix.html) of the graph  \n",
                "it describes all the connections of the nodes inside that graph  "
            ]
        },
        {
            "cell_type": "code",
            "execution_count": 27,
            "metadata": {},
            "outputs": [
                {
                    "data": {
                        "text/plain": [
                            "array([[0, 0, 1, 1, 0],\n",
                            "       [0, 0, 0, 1, 1],\n",
                            "       [1, 0, 0, 0, 1],\n",
                            "       [1, 1, 0, 0, 0],\n",
                            "       [0, 1, 1, 0, 0]], dtype=int32)"
                        ]
                    },
                    "execution_count": 27,
                    "metadata": {},
                    "output_type": "execute_result"
                }
            ],
            "source": [
                "nx.adjacency_matrix(LetterGraph).todense()"
            ]
        },
        {
            "attachments": {},
            "cell_type": "markdown",
            "metadata": {},
            "source": [
                "The matrix is 5x5 as we defined the letter graph from before with 5 nodes/vertices.\n",
                "\n",
                "You could imagine the matrix looking something like this\n",
                "\n",
                "|  X  | A    | B    | C    | D    | E    |\n",
                "| --- | ---- | ---- | ---- | ---- | ---- |\n",
                "| A   | Loop | B-A  | C-A  | D-A  | E-A  |\n",
                "| B   | A-B  | Loop | C-B  | D-B  | E-B  |\n",
                "| C   | A-C  | B-C  | Loop | D-C  | E-C  |\n",
                "| D   | A-D  | B-D  | C-D  | Loop | E-D  |\n",
                "| E   | A-E  | B-E  | C-E  | D-E  | Loop |\n",
                "\n",
                "\n",
                "The graph I created is not directed and has no loop backs so the graph is mirrored along the diagonal of the graph.  \n",
                "Eg edges are always connected in both directions eg `A` connect to `B` and `B` connect to `A`  "
            ]
        }
    ],
    "metadata": {
        "kernelspec": {
            "display_name": "Python 3",
            "language": "python",
            "name": "python3"
        },
        "language_info": {
            "codemirror_mode": {
                "name": "ipython",
                "version": 3
            },
            "file_extension": ".py",
            "mimetype": "text/x-python",
            "name": "python",
            "nbconvert_exporter": "python",
            "pygments_lexer": "ipython3",
            "version": "3.10.7"
        },
        "orig_nbformat": 4
    },
    "nbformat": 4,
    "nbformat_minor": 2
}
