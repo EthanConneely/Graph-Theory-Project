{
    "cells": [
        {
            "attachments": {},
            "cell_type": "markdown",
            "metadata": {},
            "source": [
                "# Graph Theory Project\n",
                "\n",
                "by [Ethan Conneely](https://github.com/IrishBruse?tab=repositories) (G00393941)"
            ]
        },
        {
            "attachments": {},
            "cell_type": "markdown",
            "metadata": {
                "tags": []
            },
            "source": [
                "## Graph isomorphism problem\n",
                "\n",
                "> The graph isomorphism problem is the computational problem of determining whether two finite graphs are isomorphic.  \n",
                "> The problem is not known to be solvable in polynomial time nor to be NP-complete, and therefore may be in the computational complexity class NP-intermediate.  \n",
                "\n",
                "[Wikipedia](https://en.wikipedia.org/wiki/Graph_isomorphism_problem)\n",
                "\n",
                "## Youtube\n",
                "\n",
                "I watched this [video](https://www.youtube.com/watch?v=EwV4Puk2coU) for a visual explanation of what graph isomorphism is\n",
                "\n",
                "## What is a Graph\n",
                "A graph is a mathematical concept where vertices are connected by way of edges defining the relationship between said vertices.\n",
                "\n",
                "![Graphs With 5 Edges](Images/Graphs%20With%205%20Edges.png)  \n",
                "Image of graphs With 5 edges  \n",
                "\n",
                "## What the Graph Isomorphism Problem is\n",
                "The graph isomorphism problem is a problem in computer science and mathematics.  \n",
                "It is used to determine whether two given graphs are isomorphic or not.  \n",
                "A graph isomorphism is a bijective mapping between the vertices of two graphs that preserves the edges.  \n",
                "In other words, two graphs are isomorphic if their nodes can be reorganized in a way that preserves the connections of the edges between them.  \n",
                "\n",
                "## Applications of Graph Isomorphism Problem\n",
                "The graph isomorphism problem has many practical applications in different fields such as computer science, chemistry, and physics.  \n",
                "In computer science, graph isomorphism is used in database matching, network analysis, and software verification.   \n",
                "In chemistry graph isomorphism is used to study molecular structure. In physics it is used to study the topology of physical systems.  \n",
                "In biology it is used for dna analysis.  \n",
                "\n",
                "## Importance of Graph Isomorphism Problem\n",
                "The graph isomorphism problem is an important problem in computer science and mathematics. Its resolution would have a significant impact on  \n",
                "several areas of research including [cryptography](https://www.acadpubl.eu/hub/2018-119-13/articles/40.pdf). The study of this problem  \n",
                "has also led to the development of new mathematical tools and algorithms that have applications beyond the field of graph theory.  \n"
            ]
        },
        {
            "attachments": {},
            "cell_type": "markdown",
            "metadata": {},
            "source": [
                "# Code Examples"
            ]
        },
        {
            "attachments": {},
            "cell_type": "markdown",
            "metadata": {},
            "source": [
                "Libraries used"
            ]
        },
        {
            "cell_type": "code",
            "execution_count": 3,
            "metadata": {},
            "outputs": [],
            "source": [
                "import networkx as nx\n",
                "import matplotlib.pyplot as plt\n",
                "import itertools as it\n",
                "import numpy as np"
            ]
        },
        {
            "attachments": {},
            "cell_type": "markdown",
            "metadata": {},
            "source": [
                "With networkx in python we can define a graph with the following syntax"
            ]
        },
        {
            "cell_type": "code",
            "execution_count": 6,
            "metadata": {},
            "outputs": [
                {
                    "data": {
                        "image/png": "[encoded data removed]",
                        "text/plain": [
                            "<Figure size 640x480 with 1 Axes>"
                        ]
                    },
                    "metadata": {},
                    "output_type": "display_data"
                }
            ],
            "source": [
                "NumberGraph = nx.Graph()\n",
                "NumberGraph.add_nodes_from([1,2,3,4,5])\n",
                "NumberGraph.add_edges_from([(1,2),(2,3),(3,4),(4,5),(5,1)])\n",
                "\n",
                "nx.draw(NumberGraph, with_labels=True)"
            ]
        },
        {
            "attachments": {},
            "cell_type": "markdown",
            "metadata": {},
            "source": [
                "Next we draw 2 graphs side by side with matplotlib.\n",
                "We can define nodes with letter or numbers or any piece of data we wish"
            ]
        },
        {
            "cell_type": "code",
            "execution_count": 7,
            "metadata": {},
            "outputs": [
                {
                    "data": {
                        "image/png": "[encoded data removed]",
                        "text/plain": [
                            "<Figure size 640x480 with 2 Axes>"
                        ]
                    },
                    "metadata": {},
                    "output_type": "display_data"
                }
            ],
            "source": [
                "NumberGraph = nx.Graph()\n",
                "NumberGraph.add_nodes_from([1,2,3,4,5])\n",
                "NumberGraph.add_edges_from([(1,2),(2,3),(3,4),(4,5),(5,1)])\n",
                "\n",
                "LetterGraph = nx.Graph()\n",
                "LetterGraph.add_nodes_from([\"a\",\"b\",\"c\",\"d\",\"e\"])\n",
                "LetterGraph.add_edges_from([(\"a\",\"c\"),(\"b\",\"d\"),(\"c\",\"e\"),(\"d\",\"a\"),(\"e\",\"b\")])\n",
                "\n",
                "plt.subplot(1,2,1) # Draw the first graph at index 1\n",
                "nx.draw(NumberGraph,with_labels=True)\n",
                "\n",
                "plt.subplot(1,2,2) # Draw the second graph at index 2\n",
                "nx.draw(LetterGraph,with_labels=True)\n",
                "\n",
                "plt.show()"
            ]
        },
        {
            "attachments": {},
            "cell_type": "markdown",
            "metadata": {},
            "source": [
                "Networkx comes with a builtin algorithm for detecting if graphs are isomorphic.  \n",
                "Below we check the letter graph and number graph from before to test if they are isomorphic.  "
            ]
        },
        {
            "cell_type": "code",
            "execution_count": 8,
            "metadata": {},
            "outputs": [
                {
                    "data": {
                        "text/plain": [
                            "True"
                        ]
                    },
                    "execution_count": 8,
                    "metadata": {},
                    "output_type": "execute_result"
                }
            ],
            "source": [
                "nx.is_isomorphic(LetterGraph,NumberGraph)"
            ]
        },
        {
            "attachments": {},
            "cell_type": "markdown",
            "metadata": {},
            "source": [
                "Yes they are indeed isomorphic to one another as a graph does not need to have the same vertices/nodes for them to be isomorphic only the same connections/edges."
            ]
        },
        {
            "attachments": {},
            "cell_type": "markdown",
            "metadata": {},
            "source": [
                "Using iter tools we can generate all the permutations of a graphs nodes easily we could use this as a way to test if 2 graphs are isomorphic.  \n",
                "The only issue with that is it grows in factorial time which mean it only takes a few elements before it would take more memory and time than the total available on earth today combined."
            ]
        },
        {
            "attachments": {},
            "cell_type": "markdown",
            "metadata": {},
            "source": [
                "Here is the first 10 permutations of the array of letters you can see there is a patter to what it does"
            ]
        },
        {
            "cell_type": "code",
            "execution_count": 22,
            "metadata": {},
            "outputs": [
                {
                    "name": "stdout",
                    "output_type": "stream",
                    "text": [
                        "('a', 'b', 'c', 'd', 'e')\n",
                        "('a', 'b', 'c', 'e', 'd')\n",
                        "('a', 'b', 'd', 'c', 'e')\n",
                        "('a', 'b', 'd', 'e', 'c')\n",
                        "('a', 'b', 'e', 'c', 'd')\n",
                        "('a', 'b', 'e', 'd', 'c')\n",
                        "('a', 'c', 'b', 'd', 'e')\n",
                        "('a', 'c', 'b', 'e', 'd')\n",
                        "('a', 'c', 'd', 'b', 'e')\n",
                        "('a', 'c', 'd', 'e', 'b')\n"
                    ]
                }
            ],
            "source": [
                "nodes = it.permutations(np.array([\"a\",\"b\",\"c\",\"d\",\"e\"]))\n",
                "\n",
                "for node in it.islice(nodes,0,10):\n",
                "    print(node)"
            ]
        },
        {
            "attachments": {},
            "cell_type": "markdown",
            "metadata": {},
            "source": [
                "This is how many total permutations of the letter a,b,c,d,e\n",
                "the formulat for the number of them is ```1*2*3*4*5```"
            ]
        },
        {
            "cell_type": "code",
            "execution_count": 23,
            "metadata": {},
            "outputs": [
                {
                    "name": "stdout",
                    "output_type": "stream",
                    "text": [
                        "\n",
                        "Number of permutations: 120\n"
                    ]
                }
            ],
            "source": [
                "nodes = it.permutations(np.array([\"a\",\"b\",\"c\",\"d\",\"e\"]))\n",
                "\n",
                "count = 0\n",
                "for node in nodes:\n",
                "    count += 1\n",
                "\n",
                "print()\n",
                "\n",
                "print(\"Number of permutations: \"+str(count))\n"
            ]
        },
        {
            "attachments": {},
            "cell_type": "markdown",
            "metadata": {},
            "source": [
                "Next is the [adjacency matrix](https://networkx.org/documentation/stable/reference/generated/networkx.linalg.graphmatrix.adjacency_matrix.html) of the graph  \n",
                "it describes all the connections of the nodes inside that graph  "
            ]
        },
        {
            "cell_type": "code",
            "execution_count": 10,
            "metadata": {},
            "outputs": [
                {
                    "data": {
                        "text/plain": [
                            "array([[0, 0, 1, 1, 0],\n",
                            "       [0, 0, 0, 1, 1],\n",
                            "       [1, 0, 0, 0, 1],\n",
                            "       [1, 1, 0, 0, 0],\n",
                            "       [0, 1, 1, 0, 0]], dtype=int32)"
                        ]
                    },
                    "execution_count": 10,
                    "metadata": {},
                    "output_type": "execute_result"
                }
            ],
            "source": [
                "nx.adjacency_matrix(LetterGraph).todense()"
            ]
        },
        {
            "attachments": {},
            "cell_type": "markdown",
            "metadata": {},
            "source": [
                "The matrix is 5x5 as we defined the letter graph from before with 5 nodes/vertices.\n",
                "\n",
                "You could imagine the matrix looking something like this\n",
                "\n",
                "|   X   | A    | B    | C    | D    | E    |\n",
                "| ----- | ---- | ---- | ---- | ---- | ---- |\n",
                "| **A** | Loop | B-A  | C-A  | D-A  | E-A  |\n",
                "| **B** | A-B  | Loop | C-B  | D-B  | E-B  |\n",
                "| **C** | A-C  | B-C  | Loop | D-C  | E-C  |\n",
                "| **D** | A-D  | B-D  | C-D  | Loop | E-D  |\n",
                "| **E** | A-E  | B-E  | C-E  | D-E  | Loop |\n",
                "\n",
                "\n",
                "The graph I created is not directed and has no loop backs so the graph is mirrored along the diagonal of the graph.  \n",
                "eg edges are always connected in both directions eg `A` connect to `B` and `B` connect to `A`.  "
            ]
        },
        {
            "attachments": {},
            "cell_type": "markdown",
            "metadata": {},
            "source": [
                "# My Implementation"
            ]
        },
        {
            "attachments": {},
            "cell_type": "markdown",
            "metadata": {},
            "source": [
                "Below are 2 graphs i have created to show my basic implementation to check if 2 graphs are isomorphic."
            ]
        },
        {
            "cell_type": "code",
            "execution_count": 11,
            "metadata": {},
            "outputs": [
                {
                    "data": {
                        "image/png": "[encoded data removed]",
                        "text/plain": [
                            "<Figure size 640x480 with 2 Axes>"
                        ]
                    },
                    "metadata": {},
                    "output_type": "display_data"
                }
            ],
            "source": [
                "G1 = nx.Graph()\n",
                "G1.add_nodes_from([1,2,3,4])\n",
                "G1.add_edges_from([(1,2),(2,3),(2,4)])\n",
                "\n",
                "G2 = nx.Graph()\n",
                "G2.add_nodes_from([1,4,3,2])\n",
                "G2.add_edges_from([(1,4),(4,3),(2,4)])\n",
                "\n",
                "plt.subplot(1,2,1) # Draw the first graph at index 1\n",
                "nx.draw(G1,with_labels=True)\n",
                "\n",
                "plt.subplot(1,2,2) # Draw the second graph at index 2\n",
                "nx.draw(G2,with_labels=True)\n",
                "\n",
                "plt.show()"
            ]
        },
        {
            "attachments": {},
            "cell_type": "markdown",
            "metadata": {},
            "source": [
                "Networkx shows that they are indeed isomorphic"
            ]
        },
        {
            "cell_type": "code",
            "execution_count": 12,
            "metadata": {},
            "outputs": [
                {
                    "data": {
                        "text/plain": [
                            "True"
                        ]
                    },
                    "execution_count": 12,
                    "metadata": {},
                    "output_type": "execute_result"
                }
            ],
            "source": [
                "nx.is_isomorphic(G1,G2)"
            ]
        },
        {
            "attachments": {},
            "cell_type": "markdown",
            "metadata": {},
            "source": [
                "This is how you get the permutations of the graph which is need when checking if graphs are isomorphic"
            ]
        },
        {
            "cell_type": "code",
            "execution_count": 15,
            "metadata": {},
            "outputs": [
                {
                    "name": "stdout",
                    "output_type": "stream",
                    "text": [
                        "[[0 1 0 0 1]\n",
                        " [1 0 1 0 0]\n",
                        " [0 1 0 1 0]\n",
                        " [0 0 1 0 1]\n",
                        " [1 0 0 1 0]]\n",
                        "\n",
                        "\n",
                        "[[0 1 0 1 0]\n",
                        " [1 0 1 0 0]\n",
                        " [0 1 0 0 1]\n",
                        " [1 0 0 0 1]\n",
                        " [0 0 1 1 0]]\n",
                        "\n",
                        "\n",
                        "[[0 1 0 0 1]\n",
                        " [1 0 0 1 0]\n",
                        " [0 0 0 1 1]\n",
                        " [0 1 1 0 0]\n",
                        " [1 0 1 0 0]]\n",
                        "\n",
                        "\n",
                        "[[0 1 0 1 0]\n",
                        " [1 0 0 0 1]\n",
                        " [0 0 0 1 1]\n",
                        " [1 0 1 0 0]\n",
                        " [0 1 1 0 0]]\n",
                        "\n",
                        "\n"
                    ]
                }
            ],
            "source": [
                "# Part of writing an algorithm to find the isomorphism between two graphs\n",
                "# we need to make a permutation of all the adjacency matrices\n",
                "# network x has a handy function to get the adjacency matrix of a graph\n",
                "\n",
                "# get the permutations of the nodes\n",
                "nodes = it.permutations(np.array(NumberGraph.nodes()))\n",
                "\n",
                "# check if the adjacency matrix are the same for each permutation\n",
                "for node in it.islice(nodes,0,4):\n",
                "    # Get the adjacency matrix of the second graph with the nodes permuted\n",
                "    graph2_adj_perm = nx.adjacency_matrix(NumberGraph,nodelist=node)\n",
                "    print(graph2_adj_perm.todense())\n",
                "    print(\"\\n\")\n"
            ]
        },
        {
            "attachments": {},
            "cell_type": "markdown",
            "metadata": {},
            "source": [
                "Here is my naive implementation taking advantage of the speed of numpy"
            ]
        },
        {
            "cell_type": "code",
            "execution_count": 30,
            "metadata": {},
            "outputs": [],
            "source": [
                "def is_isomorphic(graph1,graph2):\n",
                "    # the graphs cant be isomorphic if they have different number of nodes or edges\n",
                "    if graph1.number_of_nodes() != graph2.number_of_nodes():\n",
                "        return False\n",
                "\n",
                "    if graph1.number_of_edges() != graph2.number_of_edges():\n",
                "        return False\n",
                "\n",
                "    # get the adjacency matrices of the graph 1 to compare later\n",
                "    adjacency1 = nx.adjacency_matrix(graph1)\n",
                "\n",
                "    # get all the permutations of the nodes\n",
                "    nodes = it.permutations(np.array(graph1.nodes()))\n",
                "\n",
                "    # check if the adjacency matrix are the same for each permutation\n",
                "    for node in nodes:\n",
                "        # Get the adjacency matrix of the second graph with the nodes permuted\n",
                "        graph2_adj_perm = nx.adjacency_matrix(graph2,nodelist=node)\n",
                "\n",
                "        if np.array_equal(adjacency1.todense(),graph2_adj_perm.todense()):\n",
                "            return True\n",
                "\n",
                "    return False\n"
            ]
        },
        {
            "cell_type": "code",
            "execution_count": 31,
            "metadata": {},
            "outputs": [
                {
                    "data": {
                        "text/plain": [
                            "True"
                        ]
                    },
                    "execution_count": 31,
                    "metadata": {},
                    "output_type": "execute_result"
                }
            ],
            "source": [
                "G1 = nx.cycle_graph(50_000)\n",
                "G2 = nx.cycle_graph(50_000)\n",
                "is_isomorphic(G1,G2)\n"
            ]
        },
        {
            "attachments": {},
            "cell_type": "markdown",
            "metadata": {},
            "source": [
                "If I run the below Networkx crashes trying to check 2 50_000 node graphs for isomorphism it is also alot slower than my implementation  \n",
                "which I assume is because of me using numpy which takes advantage of compiled c libraries instead of running an interpreted  \n",
                "python implementation to check if the graphs are isomorphic."
            ]
        },
        {
            "cell_type": "code",
            "execution_count": 32,
            "metadata": {},
            "outputs": [],
            "source": [
                "# nx.is_isomorphic(G1,G2)"
            ]
        },
        {
            "attachments": {},
            "cell_type": "markdown",
            "metadata": {},
            "source": [
                "Now lets make 2 graphs that are not isomorphic"
            ]
        },
        {
            "cell_type": "code",
            "execution_count": 33,
            "metadata": {},
            "outputs": [
                {
                    "data": {
                        "image/png": "[encoded data removed]",
                        "text/plain": [
                            "<Figure size 640x480 with 2 Axes>"
                        ]
                    },
                    "metadata": {},
                    "output_type": "display_data"
                }
            ],
            "source": [
                "G1 = nx.Graph()\n",
                "G1.add_nodes_from([1,2,3,4])\n",
                "G1.add_edges_from([(1,2),(2,3),(2,4)])\n",
                "\n",
                "G2 = nx.Graph()\n",
                "G2.add_nodes_from([1,4,3,2])\n",
                "G2.add_edges_from([(1,4),(4,3),(1,2)])\n",
                "\n",
                "plt.subplot(1,2,1) # Draw the first graph at index 1\n",
                "nx.draw(G1,with_labels=True)\n",
                "\n",
                "plt.subplot(1,2,2) # Draw the second graph at index 2\n",
                "nx.draw(G2,with_labels=True)\n",
                "\n",
                "plt.show()"
            ]
        },
        {
            "attachments": {},
            "cell_type": "markdown",
            "metadata": {},
            "source": [
                "Lets make sure networkx says they are not isomorphic"
            ]
        },
        {
            "cell_type": "code",
            "execution_count": 34,
            "metadata": {},
            "outputs": [
                {
                    "name": "stdout",
                    "output_type": "stream",
                    "text": [
                        "False\n"
                    ]
                }
            ],
            "source": [
                "print(nx.is_isomorphic(G1,G2))"
            ]
        },
        {
            "attachments": {},
            "cell_type": "markdown",
            "metadata": {},
            "source": [
                "Lets test my implementation to see if it is isomorphic"
            ]
        },
        {
            "cell_type": "code",
            "execution_count": 35,
            "metadata": {},
            "outputs": [
                {
                    "name": "stdout",
                    "output_type": "stream",
                    "text": [
                        "False\n"
                    ]
                }
            ],
            "source": [
                "print(is_isomorphic(G1,G2))"
            ]
        }
    ],
    "metadata": {
        "kernelspec": {
            "display_name": "Python 3",
            "language": "python",
            "name": "python3"
        },
        "language_info": {
            "codemirror_mode": {
                "name": "ipython",
                "version": 3
            },
            "file_extension": ".py",
            "mimetype": "text/x-python",
            "name": "python",
            "nbconvert_exporter": "python",
            "pygments_lexer": "ipython3",
            "version": "3.11.2"
        },
        "orig_nbformat": 4
    },
    "nbformat": 4,
    "nbformat_minor": 2
}
